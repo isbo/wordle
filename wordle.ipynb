{
 "cells": [
  {
   "cell_type": "markdown",
   "metadata": {},
   "source": [
    "### Preindex ### \n",
    "* Read system dictionary with 5 letter words"
   ]
  },
  {
   "cell_type": "code",
   "execution_count": 13,
   "metadata": {},
   "outputs": [
    {
     "name": "stdout",
     "output_type": "stream",
     "text": [
      "8497 entries in dictionary\n"
     ]
    }
   ],
   "source": [
    "dict_file = '/usr/share/dict/words'\n",
    "word_len = 5\n",
    "with open(dict_file, 'r') as file:\n",
    "    d = [line.strip() for line in file.readlines() if line.islower() and len(line) == word_len+1]\n",
    "print(\"%d entries in dictionary\" % len(d))"
   ]
  },
  {
   "cell_type": "code",
   "execution_count": 14,
   "metadata": {},
   "outputs": [],
   "source": [
    "def evaluate(word, guess):\n",
    "    assert(len(word) == len(guess))\n",
    "    ans = []\n",
    "    word_set = [c for c in word]    \n",
    "    for (w, g) in zip(word, guess):\n",
    "        if w==g:\n",
    "            ans.append(1)\n",
    "            word_set.remove(g)\n",
    "        elif g not in word:\n",
    "            ans.append(None)\n",
    "        else:\n",
    "            ans.append(0)\n",
    "    for i, e in enumerate(ans):\n",
    "        if e == 0:\n",
    "            if guess[i] in word_set:\n",
    "                word_set.remove(guess[i])\n",
    "            else:\n",
    "                ans[i] = None\n",
    "    \n",
    "    return ans\n",
    "\n",
    "def is_correct(ans):\n",
    "    return all([x == 1 for x in ans])"
   ]
  },
  {
   "cell_type": "code",
   "execution_count": 15,
   "metadata": {},
   "outputs": [
    {
     "name": "stdout",
     "output_type": "stream",
     "text": [
      "[0, None, None, 0, None]\n",
      "False\n",
      "[1, 1, 1, 1, None]\n",
      "False\n"
     ]
    }
   ],
   "source": [
    "ans = evaluate('soale', 'abbot')\n",
    "print(ans)\n",
    "print(is_correct(ans))\n",
    "ans = evaluate('acari', 'acara')\n",
    "print(ans)\n",
    "print(is_correct(ans))\n"
   ]
  },
  {
   "cell_type": "code",
   "execution_count": 16,
   "metadata": {},
   "outputs": [],
   "source": [
    "import re\n",
    "def get_candidates(pad, dictionary):\n",
    "    regxp = ''\n",
    "    for p in pad:\n",
    "        regxp += ('[' + ''.join(p) + ']')\n",
    "\n",
    "    # print(regxp)\n",
    "    words = []\n",
    "    for word in dictionary:\n",
    "        if re.match(regxp, word):\n",
    "            words.append(word)\n",
    "\n",
    "    return words"
   ]
  },
  {
   "cell_type": "code",
   "execution_count": 17,
   "metadata": {},
   "outputs": [],
   "source": [
    "from collections import defaultdict\n",
    "import heapq\n",
    "\n",
    "def get_best_candidate(words):\n",
    "    c = defaultdict(int)\n",
    "    for word in words:\n",
    "        for (i, e) in enumerate(word):\n",
    "            c[(i, e)] += 1\n",
    "\n",
    "    h = []    \n",
    "    for word in words:\n",
    "        score = 0\n",
    "        for (i, e) in enumerate(word):\n",
    "            score += c[(i, e)]   \n",
    "        heapq.heappush(h, (-score, word))\n",
    "\n",
    "\n",
    "    return h[0][1]"
   ]
  },
  {
   "cell_type": "code",
   "execution_count": 18,
   "metadata": {},
   "outputs": [],
   "source": [
    "def solve(word, start_word):\n",
    "    alphabet = 'abcdefghijklmnopqrstuvwxyz'\n",
    "    pad = [set(alphabet) for i in range(word_len)]\n",
    "    # print(pad)\n",
    "\n",
    "    guess = start_word\n",
    "    attempts = 0\n",
    "    while True:\n",
    "        attempts += 1 \n",
    "        ans = evaluate(word, guess)\n",
    "        # print(guess, ans)\n",
    "        if is_correct(ans):\n",
    "            return attempts\n",
    "            print('word is %s after %d attempts' % (guess, attempts))\n",
    "            break \n",
    "\n",
    "        seen = set()\n",
    "        for (i, e) in enumerate(ans):\n",
    "            if e == 1:\n",
    "                pad[i] = set(guess[i])\n",
    "                seen.add(guess[i])\n",
    "            elif e == 0:\n",
    "                pad[i].discard(guess[i])\n",
    "                seen.add(guess[i])\n",
    "            else: #none\n",
    "                if guess[i] in seen:\n",
    "                    pad[i].discard(guess[i])\n",
    "                else:\n",
    "                    for p in pad: \n",
    "                        p.discard(guess[i]) \n",
    "\n",
    "        #print(pad)\n",
    "        words = get_candidates(pad, d)\n",
    "        guess = get_best_candidate(words)\n",
    "        #print(word, words, guess)\n"
   ]
  },
  {
   "cell_type": "code",
   "execution_count": 19,
   "metadata": {},
   "outputs": [
    {
     "data": {
      "text/plain": [
       "6"
      ]
     },
     "execution_count": 19,
     "metadata": {},
     "output_type": "execute_result"
    }
   ],
   "source": [
    "solve('slump', 'soare')"
   ]
  },
  {
   "cell_type": "code",
   "execution_count": 20,
   "metadata": {},
   "outputs": [
    {
     "name": "stdout",
     "output_type": "stream",
     "text": [
      "abler 9\n",
      "acold 7\n",
      "adrip 7\n",
      "adzer 7\n",
      "after 7\n",
      "agape 7\n",
      "agger 8\n",
      "aglow 7\n",
      "agony 7\n",
      "amelu 7\n",
      "amhar 7\n",
      "amino 7\n",
      "among 7\n",
      "angle 7\n",
      "angor 7\n",
      "ankle 7\n",
      "anvil 7\n",
      "apart 7\n",
      "aping 7\n",
      "defaultdict(<class 'int'>, {4: 114, 5: 168, 6: 73, 3: 25, 9: 1, 7: 17, 8: 1, 2: 1})\n"
     ]
    }
   ],
   "source": [
    "start_word = 'soare'\n",
    "c = defaultdict(int)\n",
    "i = 0\n",
    "for word in d[:400]:\n",
    "    i += 1\n",
    "#    print(word)\n",
    "    attempts = solve(word, start_word)\n",
    "    c[attempts] += 1\n",
    "    if i%500 == 0:\n",
    "        print(c)\n",
    "    if attempts > 6: \n",
    "        print(word, attempts)\n",
    "print(c)"
   ]
  },
  {
   "cell_type": "code",
   "execution_count": 24,
   "metadata": {},
   "outputs": [
    {
     "data": {
      "text/plain": [
       "<BarContainer object of 8 artists>"
      ]
     },
     "execution_count": 24,
     "metadata": {},
     "output_type": "execute_result"
    },
    {
     "data": {
      "image/png": "[encoded data removed]",
      "text/plain": [
       "<Figure size 432x288 with 1 Axes>"
      ]
     },
     "metadata": {},
     "output_type": "display_data"
    }
   ],
   "source": [
    "import matplotlib.pyplot as plt\n",
    "%matplotlib inline\n",
    "plt.style.use('seaborn-white')\n",
    "plt.xlabel('Attempts')\n",
    "plt.ylabel('# of 5-letter words')\n",
    "plt.bar(c.keys(), c.values())\n"
   ]
  }
 ],
 "metadata": {
  "interpreter": {
   "hash": "40d3a090f54c6569ab1632332b64b2c03c39dcf918b08424e98f38b5ae0af88f"
  },
  "kernelspec": {
   "display_name": "Python 3.9.7 64-bit ('base': conda)",
   "language": "python",
   "name": "python3"
  },
  "language_info": {
   "codemirror_mode": {
    "name": "ipython",
    "version": 3
   },
   "file_extension": ".py",
   "mimetype": "text/x-python",
   "name": "python",
   "nbconvert_exporter": "python",
   "pygments_lexer": "ipython3",
   "version": "3.9.7"
  },
  "orig_nbformat": 4
 },
 "nbformat": 4,
 "nbformat_minor": 2
}
